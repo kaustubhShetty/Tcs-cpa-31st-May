{
 "cells": [
  {
   "cell_type": "markdown",
   "metadata": {},
   "source": [
    "Create a class Question with below attributes:<br>\n",
    "questionId of type Integer<br>\n",
    "markedOption of type Integer<br>\n",
    "score of type Integer <br>\n",
    "status of type string<br>\n",
    "which represents question id, the marked option, the status and the score of the Question<br><br>\n",
    "Define the __init__ method to initialize the attributes quesitonId, markedOption and score. The value of the attribute status is to be set as \"Not Answered\" inside the method<br><br>\n",
    "Create a class Student with below attributes:<br>\n",
    "registrationId-of type Integer<br>\n",
    "questionsAttempted-a list of Question objects<br><br>\n",
    "\n",
    "Define the __init__ method to initialize the attributes in the above sequence<br>\n",
    "Define the following two methods in the Student class<br>\n",
    "1. evaluateQuestions: which will take as argument a dictionary(answerKey) having as element questionId: correctOption(both Integers)as key:value pairs.<br>\n",
    "Method will update the status of the Questions in the questionsAttempted list of the Student based on the following conditions.<br><br>\n",
    "1. status will be updated to \"correct\", if the questionid of the Question in the questionsAttempted list is present as key in the answerKey dictionary passed as argument and the markedOption value of the Question is equal to the correctOption valueof the key: value pair found.<br>\n",
    "2. status will be updated to \"incorrect\", if the questionId of the Question in the questionsAttempted list is present as key in the answerkey dictionary passed as argument and the markedOption value is not equal to the correctOption value of the key:value pair found.<br>\n",
    "3. If the questionId of the Question in the questionsAttempted list is not present as key in the answerKey dictionary passed as argument, the status will not be updated.<br>\n",
    "Method does not return any value<br>\n",
    "2.findGrade: This method will calculate the total score of the student and the grade and return the Grade.<br>\n",
    "Total score(totalScore) is calculated as the summation of score of all Questions in the questionsAttempted list of Student having status equal to \"Correct\".<br>\n",
    "Grade is calculated as below:<br>\n",
    "for totalScore>=80 Grade is 'A'<br>\n",
    "for totalScore>=70 Grade is 'B'<br>\n",
    "for totalScore>=60 Grade is 'C'<br>\n",
    "otherwise Grade is 'F'<br>\n",
    "\n",
    "Instructions to write main:<br>\n",
    "1. Create the list of Question objects by taking the inputs as mentioned below.\n",
    "2. Create the Student Object by using any value for registrationid and the list of Question Objects created in point #1.<br>\n",
    "3. Create the dictionary answerKey to be passed as argument to the method evaluateQuestions by taking inputs as mentioned below<br>\n",
    "4. Call the function evaluateQuestions() of the Student object created in point #2 by passing the data as per the instructions mentioned in the function description.<br>\n",
    "5. Display the Question ID and status from the updated questions Attempted list of the student object created in point#2.<br>\n",
    "6. Call the method findGrade of the Student object created in point #2.<br>\n",
    "7. Display the value returned by the method.findGrade of the Student object created in point #2.<br>\n",
    "\n",
    "Sample Input:<br>\n",
    "1. the 1st input taken in the main section is the number of Question objects to be added to the list of Questions.<br>\n",
    "2. The next set of inputs are the questionId, markedOption and score for each question taken one after other and is repeated for number of objects given in the first line of inputs. <br>\n",
    "3. The next input is the count of elements to be added to the answerKey dictionary to be created to supplied as argument to the method evaluateQuestions.<br>\n",
    "4.The next set of inputs are the question id and the correct option for that question.<br>\n",
    "5. The next set of inputs are the question id and the correct option for that question(the key:value pair for the dictionary to be created) taken one after another and is repeated for number of elements given as the count of elements in the dictionary.\n",
    "\n"
   ]
  },
  {
   "cell_type": "code",
   "execution_count": 1,
   "metadata": {},
   "outputs": [],
   "source": [
    "class Question:\n",
    "    #Constructor\n",
    "    def __init__(self,questionId,markedOption,score):\n",
    "        self.questionId=questionId #int\n",
    "        self.markedOption=markedOption #int\n",
    "        self.score=score #int\n",
    "        self.status=\"Not Answered\" #string   \n",
    "        \n",
    "class Student:\n",
    "    #Constructor\n",
    "    def __init__(self,registrationId,questionsAttempted):\n",
    "        self.registrationId=registrationId  #int\n",
    "        self.questionsAttempted=questionsAttempted  #list of question objects\n",
    "    \n",
    "    def evaluateQuestions(self,answerKeyDictionary):\n",
    "        for question in self.questionsAttempted:\n",
    "            if question.questionId in answerKeyDictionary.keys():\n",
    "                if question.markedOption==answerKeyDictionary[question.questionId]:\n",
    "                    question.status=\"correct\"\n",
    "            elif question.questionId in answerKeyDictionary.keys():\n",
    "                if question.markedOption!=answerKeyDictionary[question.questionId]:\n",
    "                    question.status=\"incorrect\"\n",
    "                    \n",
    "    def findGrade(self): #will calculate the total score of the student and the grade and return the grade\n",
    "        totalScore=0\n",
    "        grade=\"\"\n",
    "        for question in self.questionsAttempted:\n",
    "            if question.status==\"correct\":\n",
    "                totalScore=totalScore+question.score\n",
    "        if(totalScore>=80):\n",
    "            grade=\"A\"\n",
    "        elif(totalScore>=70):\n",
    "            grade=\"B\"\n",
    "        elif(totalScore>=60):\n",
    "            grade=\"C\"\n",
    "        else:\n",
    "            grade=\"F\"\n",
    "        return grade    "
   ]
  },
  {
   "cell_type": "code",
   "execution_count": 2,
   "metadata": {},
   "outputs": [
    {
     "name": "stdout",
     "output_type": "stream",
     "text": [
      "4\n",
      "100\n",
      "4\n",
      "50\n",
      "340\n",
      "3\n",
      "30\n",
      "489\n",
      "2\n",
      "30\n",
      "790\n",
      "2\n",
      "5\n",
      "3\n",
      "100\n",
      "4\n",
      "489\n",
      "1\n",
      "340\n",
      "3\n",
      "OUTPUT:\n",
      "100   correct\n",
      "340   correct\n",
      "489   Not Answered\n",
      "790   Not Answered\n",
      "A\n"
     ]
    }
   ],
   "source": [
    "if __name__==\"__main__\":\n",
    "    #number of question objects n\n",
    "    n=int(input())\n",
    "    l=[]\n",
    "    answerKeyDictionary={}\n",
    "    for i in range(n):\n",
    "        l.append(Question(int(input()),int(input()),int(input()))) #takes in questionId, markedOption, score\n",
    "    count=int(input()) #count of the number of elements to be added to the answerKeyDictionary\n",
    "    for i in range(count):\n",
    "        key=int(input())\n",
    "        value=int(input())\n",
    "        answerKeyDictionary[key]=value\n",
    "    s=Student(1,l)#registrationId,list\n",
    "    s.evaluateQuestions(answerKeyDictionary)\n",
    "    print(\"OUTPUT:\")\n",
    "    for question in l:\n",
    "        print(question.questionId,\" \",question.status)\n",
    "    print(s.findGrade())\n",
    "    "
   ]
  },
  {
   "cell_type": "code",
   "execution_count": null,
   "metadata": {},
   "outputs": [],
   "source": []
  },
  {
   "cell_type": "code",
   "execution_count": 3,
   "metadata": {},
   "outputs": [
    {
     "name": "stdout",
     "output_type": "stream",
     "text": [
      "1\n",
      "12\n",
      "2\n",
      "13\n",
      "{1: 12, 2: 13}\n"
     ]
    }
   ],
   "source": [
    "#HOW TO INPUT VALUES IN A DICTIONARY\n",
    "dictionary={}\n",
    "for i in range(2):\n",
    "    key=int(input())\n",
    "    value=int(input())\n",
    "    dictionary[key]=value\n",
    "print(dictionary)"
   ]
  },
  {
   "cell_type": "code",
   "execution_count": 1,
   "metadata": {},
   "outputs": [
    {
     "name": "stdout",
     "output_type": "stream",
     "text": [
      "1   2\n"
     ]
    }
   ],
   "source": [
    "print(1,\" \",2)"
   ]
  },
  {
   "cell_type": "code",
   "execution_count": 2,
   "metadata": {},
   "outputs": [
    {
     "ename": "TypeError",
     "evalue": "unsupported operand type(s) for +: 'int' and 'str'",
     "output_type": "error",
     "traceback": [
      "\u001b[1;31m---------------------------------------------------------------------------\u001b[0m",
      "\u001b[1;31mTypeError\u001b[0m                                 Traceback (most recent call last)",
      "\u001b[1;32m<ipython-input-2-c04e8395a5b2>\u001b[0m in \u001b[0;36m<module>\u001b[1;34m\u001b[0m\n\u001b[1;32m----> 1\u001b[1;33m \u001b[0mprint\u001b[0m\u001b[1;33m(\u001b[0m\u001b[1;36m1\u001b[0m\u001b[1;33m+\u001b[0m \u001b[1;34m\" \"\u001b[0m \u001b[1;33m+\u001b[0m \u001b[1;36m2\u001b[0m\u001b[1;33m)\u001b[0m\u001b[1;33m\u001b[0m\u001b[1;33m\u001b[0m\u001b[0m\n\u001b[0m",
      "\u001b[1;31mTypeError\u001b[0m: unsupported operand type(s) for +: 'int' and 'str'"
     ]
    }
   ],
   "source": [
    "print(1+ \" \" + 2) #dont do this"
   ]
  },
  {
   "cell_type": "code",
   "execution_count": null,
   "metadata": {},
   "outputs": [],
   "source": []
  }
 ],
 "metadata": {
  "kernelspec": {
   "display_name": "Python 3",
   "language": "python",
   "name": "python3"
  },
  "language_info": {
   "codemirror_mode": {
    "name": "ipython",
    "version": 3
   },
   "file_extension": ".py",
   "mimetype": "text/x-python",
   "name": "python",
   "nbconvert_exporter": "python",
   "pygments_lexer": "ipython3",
   "version": "3.7.4"
  }
 },
 "nbformat": 4,
 "nbformat_minor": 2
}
